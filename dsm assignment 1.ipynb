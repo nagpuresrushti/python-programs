{
 "cells": [
  {
   "cell_type": "code",
   "execution_count": 2,
   "id": "ab03a834",
   "metadata": {},
   "outputs": [],
   "source": [
    "# Q1 who developed python programming language?\n",
    "#Python was created by Guido van Rossum, and first released on February 20, 1991. "
   ]
  },
  {
   "cell_type": "code",
   "execution_count": null,
   "id": "c5552caa",
   "metadata": {},
   "outputs": [],
   "source": [
    "# Q2 which type of programming does python support?\n",
    "#Python is an interpreted programming language, which supports object-oriented, structured, and functional programming."
   ]
  },
  {
   "cell_type": "code",
   "execution_count": 3,
   "id": "a437d91e",
   "metadata": {},
   "outputs": [],
   "source": [
    "#Q3 is python case sensitive when dealing with identifires?\n",
    "#yes, Python is a case-sensitive language, so identifiers are case-sensitive."
   ]
  },
  {
   "cell_type": "code",
   "execution_count": 4,
   "id": "9567b672",
   "metadata": {},
   "outputs": [],
   "source": [
    "#Q4 what is the correct extension of python file?\n",
    "# extensions for Python files are – . py, . pyi, . pyc, ."
   ]
  },
  {
   "cell_type": "code",
   "execution_count": 5,
   "id": "60a572af",
   "metadata": {},
   "outputs": [],
   "source": [
    "#Q5 is python code compiled or interpreted ?\n",
    "#Python is an interpreted language, which means the source code of a Python program is converted into bytecode that is then executed by the Python virtual machine."
   ]
  },
  {
   "cell_type": "code",
   "execution_count": 6,
   "id": "0b3200b6",
   "metadata": {},
   "outputs": [],
   "source": [
    "#Q6 name a few blocks of code used to define in python language ?\n",
    "#a module, a function body, and a class definition."
   ]
  },
  {
   "cell_type": "code",
   "execution_count": 7,
   "id": "125f710f",
   "metadata": {},
   "outputs": [],
   "source": [
    "#Q7 state a character used to give single line comments in python?\n",
    "#In Python, we use the hash symbol # to write a single-line comment.\n"
   ]
  },
  {
   "cell_type": "code",
   "execution_count": 8,
   "id": "61f11912",
   "metadata": {},
   "outputs": [],
   "source": [
    "#Q8 mention functions which can help us to find the version of python that are currenty working\n",
    "#The function sys. version can help us to find the version of python that we are currently working on."
   ]
  },
  {
   "cell_type": "code",
   "execution_count": 9,
   "id": "fa7d4b24",
   "metadata": {},
   "outputs": [],
   "source": [
    "#Q9 python supports the creation of anonymous functioons at runtime,using a construct called#Q9 python supports the creation of anonymous functioons at runtime,using a construct called\n",
    "#Python supports to make anonymous functions which are not bound to a name(@ runtime). It uses a construct called \"lambda\" .\n"
   ]
  },
  {
   "cell_type": "code",
   "execution_count": 10,
   "id": "87f086b4",
   "metadata": {},
   "outputs": [],
   "source": [
    "#Q10 what does pip stand for python?\n",
    "#“Preferred Installer Program” \n"
   ]
  },
  {
   "cell_type": "code",
   "execution_count": 14,
   "id": "11829441",
   "metadata": {},
   "outputs": [],
   "source": [
    "#Q11 mention a few built in functions in python?\n",
    "#print( ) function.type( ) function. input( ) function. abs( ) function.pow( ) function. dir( ) function. sorted( ) function."
   ]
  },
  {
   "cell_type": "code",
   "execution_count": 15,
   "id": "4252091c",
   "metadata": {},
   "outputs": [],
   "source": [
    "#Q12 what is maximum possible length of an identifer in python ?\n",
    "# 79 characters\n"
   ]
  },
  {
   "cell_type": "code",
   "execution_count": 16,
   "id": "b4463d41",
   "metadata": {},
   "outputs": [],
   "source": [
    "#Q13 what are the benfits of using python\n",
    "#Easy to Read and Learn. Python is a simple language.Reduces Maintenance Cost. Avoid the Harm of Software Bugs.Wide Applicability. "
   ]
  },
  {
   "cell_type": "code",
   "execution_count": 17,
   "id": "315077ee",
   "metadata": {},
   "outputs": [],
   "source": [
    "#Q14 how memory is mananaged in python ?\n",
    "# memory management in Python is handled automatically by the interpreter using reference counting and garbage collection"
   ]
  },
  {
   "cell_type": "code",
   "execution_count": 18,
   "id": "3d34aa4d",
   "metadata": {},
   "outputs": [],
   "source": [
    "#15 is indenatation required in python?\n",
    "#Python requires indentation to define statement blocks."
   ]
  },
  {
   "cell_type": "code",
   "execution_count": 19,
   "id": "dda51eb3",
   "metadata": {},
   "outputs": [],
   "source": [
    "#Q16 which is the latest version of python\n",
    "# 3.12"
   ]
  },
  {
   "cell_type": "code",
   "execution_count": null,
   "id": "9e042cfa",
   "metadata": {},
   "outputs": [],
   "source": []
  }
 ],
 "metadata": {
  "kernelspec": {
   "display_name": "Python 3 (ipykernel)",
   "language": "python",
   "name": "python3"
  },
  "language_info": {
   "codemirror_mode": {
    "name": "ipython",
    "version": 3
   },
   "file_extension": ".py",
   "mimetype": "text/x-python",
   "name": "python",
   "nbconvert_exporter": "python",
   "pygments_lexer": "ipython3",
   "version": "3.10.9"
  }
 },
 "nbformat": 4,
 "nbformat_minor": 5
}
